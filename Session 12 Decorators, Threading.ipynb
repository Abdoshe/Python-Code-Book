{
 "cells": [
  {
   "cell_type": "code",
   "execution_count": null,
   "metadata": {},
   "outputs": [],
   "source": [
    "deco : fun which takes fun as an arg and return a new function "
   ]
  },
  {
   "cell_type": "code",
   "execution_count": null,
   "metadata": {},
   "outputs": [],
   "source": [
    "def func()\n",
    "\n",
    "func()"
   ]
  },
  {
   "cell_type": "code",
   "execution_count": 1,
   "metadata": {},
   "outputs": [
    {
     "name": "stdout",
     "output_type": "stream",
     "text": [
      "30\n",
      "PythonJava\n",
      "10Python\n"
     ]
    }
   ],
   "source": [
    "def deco(func):\n",
    "    def new_func(val1,val2):        \n",
    "        if type(val1) == type(val2):\n",
    "            return func(val1,val2)\n",
    "        else:\n",
    "            return func(str(val1),str(val2))            \n",
    "    \n",
    "    return new_func\n",
    "\n",
    "@deco\n",
    "def add(val1,val2):\n",
    "    return val1 + val2\n",
    "\n",
    "print(add(10,20))\n",
    "print(add(\"Python\",\"Java\"))\n",
    "print(add(10,\"Python\"))"
   ]
  },
  {
   "cell_type": "code",
   "execution_count": null,
   "metadata": {},
   "outputs": [],
   "source": [
    "add(10,20): 30 \n",
    "    return new_func = 30\n",
    "        return func(val1,val2) = 30 \n",
    "            return 10 +20 = 30  "
   ]
  },
  {
   "cell_type": "code",
   "execution_count": 3,
   "metadata": {},
   "outputs": [
    {
     "name": "stdout",
     "output_type": "stream",
     "text": [
      "Inside edit profile\n",
      "Invalid credentials\n",
      "Inside of make payment\n"
     ]
    }
   ],
   "source": [
    "def login(func):\n",
    "    \n",
    "    def check_user(username,password):\n",
    "        if username == \"abc\" and password ==\"abc@123\":\n",
    "            return func(username,password)\n",
    "        else:\n",
    "            return \"Invalid credentials\"\n",
    "    \n",
    "    return check_user\n",
    "\n",
    "@login\n",
    "def edit_profile(username,password):\n",
    "    return  \"Inside edit profile\"\n",
    "@login\n",
    "def change_password(username,password):\n",
    "    return \"Inside change_paswword\"\n",
    "\n",
    "@login\n",
    "def make_payment(username,password):\n",
    "    return \"Inside of make payment\"\n",
    "    \n",
    "print(edit_profile(\"abc\",\"abc@123\"))\n",
    "print(change_password(\"abd\",\"abc@124\"))\n",
    "print(make_payment(\"abc\",\"abc@123\"))\n",
    "    \n",
    "\n",
    "    "
   ]
  },
  {
   "cell_type": "code",
   "execution_count": 5,
   "metadata": {},
   "outputs": [
    {
     "name": "stdout",
     "output_type": "stream",
     "text": [
      "Welcome to google.com\n"
     ]
    }
   ],
   "source": [
    "def welcome(func):\n",
    "    def new_func(sitename):\n",
    "        return \"Welcome to \" + func(sitename)    \n",
    "    return new_func\n",
    "\n",
    "@welcome\n",
    "def printVal(sitename):\n",
    "    return sitename\n",
    "print(printVal(\"google.com\"))"
   ]
  },
  {
   "cell_type": "code",
   "execution_count": null,
   "metadata": {},
   "outputs": [],
   "source": [
    "concurrent programming \n",
    "parallel programming "
   ]
  },
  {
   "cell_type": "code",
   "execution_count": 3,
   "metadata": {},
   "outputs": [
    {
     "name": "stdout",
     "output_type": "stream",
     "text": [
      "Inside square function\n",
      "Inside multiply function\n",
      "30\n",
      "Inside square function\n",
      "100\n",
      "225\n"
     ]
    }
   ],
   "source": [
    "import threading \n",
    "import time\n",
    "\n",
    "def square(num):\n",
    "    print(\"Inside square function\")\n",
    "    time.sleep(5)\n",
    "    print(num * num)\n",
    "\n",
    "def multiply(num1,num2):\n",
    "    print(\"Inside multiply function\")\n",
    "    print(num1 * num2)\n",
    "    \n",
    "# square(10)\n",
    "# multiply(10,20)\n",
    "\n",
    "t1 = threading.Thread(target= square,args=(10,))\n",
    "t2 = threading.Thread(target= multiply,args= (5,6))\n",
    "t3 = threading.Thread(target= square,args=(15,))\n",
    "\n",
    "t1.start()\n",
    "t2.start()\n",
    "t3.start()\n",
    "  \n",
    "    \n"
   ]
  },
  {
   "cell_type": "code",
   "execution_count": 1,
   "metadata": {},
   "outputs": [
    {
     "name": "stdout",
     "output_type": "stream",
     "text": [
      "Inside square function\n",
      "Inside multiply function\n",
      "30\n",
      "Inside square function\n",
      "100\n",
      "225\n"
     ]
    }
   ],
   "source": [
    "import threading \n",
    "import time\n",
    "\n",
    "def square(num):\n",
    "    print(\"Inside square function\")\n",
    "    time.sleep(5)\n",
    "    print(num * num)\n",
    "\n",
    "def multiply(num1,num2):\n",
    "    print(\"Inside multiply function\")\n",
    "    print(num1 * num2)\n",
    "    \n",
    "# square(10)\n",
    "# multiply(10,20)\n",
    "\n",
    "t1 = threading.Thread(target= square,args=(10,),daemon= True)\n",
    "t2 = threading.Thread(target= multiply,args= (5,6))\n",
    "t3 = threading.Thread(target= square,args=(15,),daemon= True)\n",
    "\n",
    "t1.start()\n",
    "t2.start()\n",
    "t3.start()"
   ]
  },
  {
   "cell_type": "code",
   "execution_count": 6,
   "metadata": {},
   "outputs": [
    {
     "name": "stdout",
     "output_type": "stream",
     "text": [
      "Inside multiply functionHello\n",
      "\n",
      "30\n",
      "Inside square function"
     ]
    },
    {
     "name": "stderr",
     "output_type": "stream",
     "text": [
      "Exception in thread Thread-21:\n",
      "Traceback (most recent call last):\n",
      "  File \"C:\\ProgramData\\Anaconda3\\lib\\threading.py\", line 916, in _bootstrap_inner\n",
      "    self.run()\n",
      "  File \"C:\\ProgramData\\Anaconda3\\lib\\threading.py\", line 864, in run\n",
      "    self._target(*self._args, **self._kwargs)\n",
      "TypeError: multiply() missing 1 required positional argument: 'num2'\n",
      "\n"
     ]
    },
    {
     "name": "stdout",
     "output_type": "stream",
     "text": [
      "\n",
      "225\n"
     ]
    }
   ],
   "source": [
    "import threading \n",
    "import time\n",
    "\n",
    "def square(num):\n",
    "    print(\"Inside square function\")\n",
    "    time.sleep(5)\n",
    "    print(num * num)\n",
    "\n",
    "def multiply(num1,num2):\n",
    "    print(\"Inside multiply function\")\n",
    "    print(num1 * num2)\n",
    "    \n",
    "    \n",
    "    \n",
    "# square(10)\n",
    "# multiply(10,20)\n",
    "\n",
    "t1 = threading.Thread(target= multiply,args=(10,),daemon= True)\n",
    "t2 = threading.Thread(target= multiply,args= (5,6))\n",
    "t3 = threading.Thread(target= square,args=(15,),daemon= True)\n",
    "\n",
    "t1.start()\n",
    "t2.start()\n",
    "t1.join(2)\n",
    "print(\"Hello\")\n",
    "t3.start()"
   ]
  },
  {
   "cell_type": "code",
   "execution_count": null,
   "metadata": {},
   "outputs": [],
   "source": [
    "race condition \n",
    "deadlocks "
   ]
  },
  {
   "cell_type": "code",
   "execution_count": 14,
   "metadata": {
    "scrolled": true
   },
   "outputs": [
    {
     "name": "stdout",
     "output_type": "stream",
     "text": [
      "Inside square function\n",
      "105\n",
      "110\n",
      "Inside multiply function\n",
      "112\n",
      "114\n",
      "116\n",
      "121\n",
      "123\n",
      "125\n",
      "130\n",
      "135\n"
     ]
    }
   ],
   "source": [
    "import threading\n",
    "import time\n",
    "\n",
    "def square(num):\n",
    "    global count\n",
    "    print(\"Inside square function\")\n",
    "    lock.acquire()\n",
    "    lock.acquire()\n",
    "    for value in range(5):        \n",
    "        count+= 5\n",
    "        print(count)\n",
    "        time.sleep(3)\n",
    "    lock.release()\n",
    "    lock.release()\n",
    "\n",
    "def multiply(num1,num2):\n",
    "    global count\n",
    "    time.sleep(3)\n",
    "    print(\"Inside multiply function\")\n",
    "    \n",
    "    lock.acquire()\n",
    "\n",
    "    for value in range(5):        \n",
    "        count+= 2\n",
    "        print(count)\n",
    "        time.sleep(1)\n",
    "    lock.release()\n",
    "\n",
    "    \n",
    "# square(10)\n",
    "# multiply(10,20)\n",
    "\n",
    "count = 100\n",
    "lock = threading.Semaphore(4)\n",
    "t1 = threading.Thread(target= square,args=(10,),daemon= True)\n",
    "t2 = threading.Thread(target= multiply,args= (5,6))\n",
    "\n",
    "t1.start()\n",
    "t2.start()\n"
   ]
  },
  {
   "cell_type": "code",
   "execution_count": null,
   "metadata": {},
   "outputs": [],
   "source": [
    "import requests\n",
    "from bs4 import BeautifulSoup\n",
    "\n",
    "response = requests.get(\"https://www.magicbricks.com/property-for-sale/residential-real-estate?proptype=Multistorey-Apartment,Builder-Floor-Apartment,Penthouse,Studio-Apartment&cityName=Bangalore\")\n",
    "soup = BeautifulSoup(response.content,\"html.parser\")\n",
    "\n",
    "cards = soup.find_all(\"div\",attrs = {\"class\":\"m-srp-card__container\"})\n",
    "\n",
    "for card in cards:\n",
    "    price = card.find(\"div\",attrs = {\"class\":\"m-srp-card__price\"})\n",
    "    title = card.find(\"a\",attrs ={\"class\":\"m-srp-card__title\"})\n",
    "    \n",
    "    \n",
    "    response2 = requests.get(title.get(\"href\"))  \n",
    "    soup2 = BeautifulSoup(response2.content,\"html.parser\")\n",
    "    agent = soup2.find(\"p\",attrs ={\"class\":\"CA_agent_name\"})\n",
    "    \n",
    "    area = card.find(\"div\",attrs = {\"class\":\"m-srp-card__area\"})\n",
    "\n",
    "    price_text = price.text\n",
    "    title_text = title.text.replace(\"\\n\",\" \")\n",
    "    try:\n",
    "        area_text = area.text\n",
    "    except:\n",
    "        area_text = None\n",
    "        \n",
    "    try:\n",
    "        agent_text = agent.text\n",
    "    except:\n",
    "        agent_text = None\n",
    "    print(\"{} {} {} {}\".format(title_text,price_text,area_text,agent_text))\n"
   ]
  }
 ],
 "metadata": {
  "kernelspec": {
   "display_name": "Python 3",
   "language": "python",
   "name": "python3"
  },
  "language_info": {
   "codemirror_mode": {
    "name": "ipython",
    "version": 3
   },
   "file_extension": ".py",
   "mimetype": "text/x-python",
   "name": "python",
   "nbconvert_exporter": "python",
   "pygments_lexer": "ipython3",
   "version": "3.6.5"
  }
 },
 "nbformat": 4,
 "nbformat_minor": 2
}
