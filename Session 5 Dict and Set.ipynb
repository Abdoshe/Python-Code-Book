{
 "cells": [
  {
   "cell_type": "code",
   "execution_count": null,
   "metadata": {},
   "outputs": [],
   "source": [
    "list:\n",
    "    append(\"Python\") \n",
    "    extend([100])\n",
    "    insert \n",
    "    \n",
    "update :\n",
    "    l[index] = new_value \n",
    "    \n",
    "delete :\n",
    "    pop \n",
    "    remove \n",
    "    clear \n",
    "    del \n",
    "    \n",
    "    "
   ]
  },
  {
   "cell_type": "code",
   "execution_count": null,
   "metadata": {},
   "outputs": [],
   "source": [
    "index \n",
    "count \n",
    "\n"
   ]
  },
  {
   "cell_type": "markdown",
   "metadata": {},
   "source": [
    "### Dict\n",
    "> - d = {'id':123,\"name\":\"abc}\n",
    "> - hashing \n",
    "> - unordered => not support indexing and slicing\n",
    "> - mutable => add update and delete \n",
    "> - all the keys in the dict should be unique\n",
    ">- all the keys should be immutable => str , int ,float ,tuple  "
   ]
  },
  {
   "cell_type": "code",
   "execution_count": null,
   "metadata": {},
   "outputs": [],
   "source": [
    "l = [10,20,30,40,50]\n",
    "d = {'id':123,\"name\":\"abc}\n",
    "d = {(1,1):123,(2,2):\"abc},\n",
    "     \n",
    "hash(id) => hash id\n",
    "hash(name) => hash id \n",
    "     \n",
    "Hash table \n",
    "id key ref\n",
    "O(1)\n",
    "     \n",
    "\n"
   ]
  },
  {
   "cell_type": "code",
   "execution_count": 22,
   "metadata": {},
   "outputs": [
    {
     "name": "stdout",
     "output_type": "stream",
     "text": [
      "XYZ\n"
     ]
    }
   ],
   "source": [
    "d = {\"id\":101,\"name\":\"ABC\",\"dept\":\"HR\",\"salary\":45000,\"name\":\"XYZ\"}\n",
    "print(d['name'])\n",
    "# print(d['ABC'])\n"
   ]
  },
  {
   "cell_type": "code",
   "execution_count": 17,
   "metadata": {},
   "outputs": [
    {
     "name": "stdout",
     "output_type": "stream",
     "text": [
      "-1\n"
     ]
    }
   ],
   "source": [
    "print(d.get('age',-1))\n"
   ]
  },
  {
   "cell_type": "code",
   "execution_count": 23,
   "metadata": {},
   "outputs": [
    {
     "name": "stdout",
     "output_type": "stream",
     "text": [
      "25\n",
      "{'id': 101, 'name': 'XYZ', 'dept': 'HR', 'salary': 45000, 'age': 25}\n"
     ]
    }
   ],
   "source": [
    "print(d.setdefault(\"age\",25))\n",
    "print(d)"
   ]
  },
  {
   "cell_type": "code",
   "execution_count": 24,
   "metadata": {},
   "outputs": [
    {
     "name": "stdout",
     "output_type": "stream",
     "text": [
      "{'id': 101, 'name': 'XYZ', 'dept': 'HR', 'salary': 45000, 'age': 25, 'contact': 7123456789}\n"
     ]
    }
   ],
   "source": [
    "d['contact']=7123456789\n",
    "print(d)"
   ]
  },
  {
   "cell_type": "code",
   "execution_count": 25,
   "metadata": {},
   "outputs": [
    {
     "name": "stdout",
     "output_type": "stream",
     "text": [
      "{'id': 101, 'name': 'XYZ', 'dept': 'HR', 'salary': 45000, 'age': 25, 'contact': 8888888888}\n"
     ]
    }
   ],
   "source": [
    "d['contact']= 8888888888\n",
    "print(d)"
   ]
  },
  {
   "cell_type": "code",
   "execution_count": null,
   "metadata": {},
   "outputs": [],
   "source": [
    "{'a':97,'b':98,'c':99.......'z':122}"
   ]
  },
  {
   "cell_type": "code",
   "execution_count": null,
   "metadata": {},
   "outputs": [],
   "source": [
    "ord('a') => 97 \n",
    "chr(97) => 'a' "
   ]
  },
  {
   "cell_type": "code",
   "execution_count": 27,
   "metadata": {},
   "outputs": [
    {
     "name": "stdout",
     "output_type": "stream",
     "text": [
      "{'a': 97, 'b': 98, 'c': 99, 'd': 100, 'e': 101, 'f': 102, 'g': 103, 'h': 104, 'i': 105, 'j': 106, 'k': 107, 'l': 108, 'm': 109, 'n': 110, 'o': 111, 'p': 112, 'q': 113, 'r': 114, 's': 115, 't': 116, 'u': 117, 'v': 118, 'w': 119, 'x': 120, 'y': 121, 'z': 122}\n"
     ]
    }
   ],
   "source": [
    "d = {}\n",
    "for value in range(97,123):\n",
    "    d[chr(value)] = value\n",
    "#     d.setdefault(chr(value),value)\n",
    "print(d)"
   ]
  },
  {
   "cell_type": "code",
   "execution_count": 31,
   "metadata": {},
   "outputs": [
    {
     "name": "stdout",
     "output_type": "stream",
     "text": [
      "[(10, 100, 1), (20, 200, 2), (30, 300, 3), (40, 400, 4)]\n"
     ]
    }
   ],
   "source": [
    "l1 = [10,20,30,40,50,60]\n",
    "l2 = [100,200,300,400,500]\n",
    "l4 = [1,2,3,4]\n",
    "l3 = list(zip(l1,l2,l4))\n",
    "print(l3)"
   ]
  },
  {
   "cell_type": "code",
   "execution_count": 40,
   "metadata": {},
   "outputs": [
    {
     "name": "stdout",
     "output_type": "stream",
     "text": [
      "{(1, 10): 2, (11, 20): 3, (21, 30): 2, (31, 40): 1, (41, 50): 2, (51, 60): 0, (61, 70): 0, (71, 80): 0, (81, 90): 0, (91, 100): 0}\n"
     ]
    }
   ],
   "source": [
    "l = [10,20,45,11,24,35,25,45,11,1]\n",
    "# {(1,10):1,(11,20):2,(21,30):1.....(91,10):0}\n",
    "# 1,11,21,31,41,51..... 91 range(1,92,10)\n",
    "# 10,20,30,40...........100 range(10,101,10)\n",
    "\n",
    "d = {}\n",
    "for key in zip(range(1,92,10),range(10,101,10)):\n",
    "    d.setdefault(key,0)\n",
    "# print(d)\n",
    "for num in l:\n",
    "    for key in d:\n",
    "        if num >= key[0] and num <= key[1]:\n",
    "            d[key]= d[key] + 1\n",
    "print(d)"
   ]
  },
  {
   "cell_type": "code",
   "execution_count": 42,
   "metadata": {},
   "outputs": [
    {
     "name": "stdout",
     "output_type": "stream",
     "text": [
      "{'id': 101, 'name': 'ABC', 'dept': 'HR', 'salary': 45000}\n",
      "{'id': 101, 'name': 'XYZ', 'dept': 'HR', 'salary': 45000}\n"
     ]
    }
   ],
   "source": [
    "d = {\"id\":101,\"name\":\"ABC\",\"dept\":\"HR\",\"salary\":45000}\n",
    "\n",
    "d.setdefault(\"name\",\"XYZ\")\n",
    "print(d)\n",
    "d['name'] =\"XYZ\"\n",
    "print(d)"
   ]
  },
  {
   "cell_type": "code",
   "execution_count": 53,
   "metadata": {},
   "outputs": [
    {
     "name": "stdout",
     "output_type": "stream",
     "text": [
      "id 101\n",
      "name ABC\n",
      "dept HR\n",
      "salary 45000\n"
     ]
    }
   ],
   "source": [
    "d = {\"id\":101,\"name\":\"ABC\",\"dept\":\"HR\",\"salary\":45000}\n",
    "\n",
    "# print(d.keys())\n",
    "# print(d.values())\n",
    "# print(d.items())\n",
    "\n",
    "for k,v in d.items():\n",
    "    print(k,v)\n"
   ]
  },
  {
   "cell_type": "code",
   "execution_count": null,
   "metadata": {},
   "outputs": [],
   "source": [
    "d = {\"maths\":40,\"eng\":70,\"science\":25,\"history\":30}\n",
    "passmarks = 40"
   ]
  },
  {
   "cell_type": "code",
   "execution_count": null,
   "metadata": {},
   "outputs": [],
   "source": [
    "pop => removes the specified key and returns the value \n",
    "popitem => remove the lasst key and value pair(< 3.6) and returns key and value tuple \n",
    "clear => del all key and value pair  \n",
    "del : del dict ref "
   ]
  },
  {
   "cell_type": "code",
   "execution_count": 58,
   "metadata": {},
   "outputs": [
    {
     "name": "stdout",
     "output_type": "stream",
     "text": [
      "{'id': 101, 'name': 'ABC', 'dept': 'HR'} ('salary', 45000)\n",
      "{'id': 101, 'dept': 'HR'} ABC\n",
      "{}\n"
     ]
    },
    {
     "ename": "NameError",
     "evalue": "name 'd' is not defined",
     "output_type": "error",
     "traceback": [
      "\u001b[1;31m---------------------------------------------------------------------------\u001b[0m",
      "\u001b[1;31mNameError\u001b[0m                                 Traceback (most recent call last)",
      "\u001b[1;32m<ipython-input-58-20bf10fd965b>\u001b[0m in \u001b[0;36m<module>\u001b[1;34m()\u001b[0m\n\u001b[0;32m      9\u001b[0m \u001b[0mprint\u001b[0m\u001b[1;33m(\u001b[0m\u001b[0md\u001b[0m\u001b[1;33m)\u001b[0m\u001b[1;33m\u001b[0m\u001b[0m\n\u001b[0;32m     10\u001b[0m \u001b[1;32mdel\u001b[0m \u001b[0md\u001b[0m\u001b[1;33m\u001b[0m\u001b[0m\n\u001b[1;32m---> 11\u001b[1;33m \u001b[0mprint\u001b[0m\u001b[1;33m(\u001b[0m\u001b[0md\u001b[0m\u001b[1;33m)\u001b[0m\u001b[1;33m\u001b[0m\u001b[0m\n\u001b[0m",
      "\u001b[1;31mNameError\u001b[0m: name 'd' is not defined"
     ]
    }
   ],
   "source": [
    "d = {\"id\":101,\"name\":\"ABC\",\"dept\":\"HR\",\"salary\":45000}\n",
    "r = d.popitem()\n",
    "print(d,r)\n",
    "\n",
    "r = d.pop(\"name\")\n",
    "print(d,r)\n",
    "\n",
    "d.clear()\n",
    "print(d)\n",
    "del d\n",
    "print(d)"
   ]
  },
  {
   "cell_type": "code",
   "execution_count": 67,
   "metadata": {},
   "outputs": [
    {
     "name": "stdout",
     "output_type": "stream",
     "text": [
      "['__add__', '__class__', '__contains__', '__delattr__', '__delitem__', '__dir__', '__doc__', '__eq__', '__format__', '__ge__', '__getattribute__', '__getitem__', '__gt__', '__hash__', '__iadd__', '__imul__', '__init__', '__init_subclass__', '__iter__', '__le__', '__len__', '__lt__', '__mul__', '__ne__', '__new__', '__reduce__', '__reduce_ex__', '__repr__', '__reversed__', '__rmul__', '__setattr__', '__setitem__', '__sizeof__', '__str__', '__subclasshook__', 'append', 'clear', 'copy', 'count', 'extend', 'index', 'insert', 'pop', 'remove', 'reverse', 'sort']\n"
     ]
    }
   ],
   "source": [
    "d1 = {1:1,2:4,3:9}\n",
    "d2 = {4:16,5:25}\n",
    "\n",
    "# print(dir(list))\n",
    "\n",
    "# d1.update(d2)\n",
    "# print(d1)\n"
   ]
  },
  {
   "cell_type": "code",
   "execution_count": 62,
   "metadata": {},
   "outputs": [
    {
     "name": "stdout",
     "output_type": "stream",
     "text": [
      "{1: 1, 2: 4, 3: 9, 4: 16, 5: 25}\n"
     ]
    }
   ],
   "source": [
    "l1 = [1,2,3,4,5]\n",
    "l2 = [1,4,9,16,25]\n",
    "d = dict(zip(l1,l2))\n",
    "print(d)"
   ]
  },
  {
   "cell_type": "code",
   "execution_count": 65,
   "metadata": {},
   "outputs": [
    {
     "name": "stdout",
     "output_type": "stream",
     "text": [
      "{1: 0, 2: 0, 3: 0, 4: 0, 5: 0}\n"
     ]
    }
   ],
   "source": [
    "l1 = [1,2,3,4,5]\n",
    "d = dict.fromkeys(l1,0)\n",
    "print(d)"
   ]
  },
  {
   "cell_type": "code",
   "execution_count": null,
   "metadata": {},
   "outputs": [],
   "source": [
    "Add:\n",
    "    setdefault \n",
    "    d[key] = value \n",
    "update :\n",
    "    d[key] = new value \n",
    "    \n",
    "delete :\n",
    "    pop\n",
    "    popitem \n",
    "    clear \n",
    "    del "
   ]
  },
  {
   "cell_type": "markdown",
   "metadata": {},
   "source": [
    "### Set "
   ]
  },
  {
   "cell_type": "code",
   "execution_count": null,
   "metadata": {},
   "outputs": [],
   "source": [
    "> - {10:None,20:None,30:None}\n",
    "> - all the elements in set should be unique \n",
    "> - all the elements in sets should be immutable int,float,str,tuple\n",
    "> - mutable add upadte and delete \n",
    "> - unordered => no indexing and slicing "
   ]
  },
  {
   "cell_type": "code",
   "execution_count": null,
   "metadata": {},
   "outputs": [],
   "source": [
    "s1 = {10,20,30,40,50}\n",
    "s2 = {40,50,60,70,80}\n",
    "\n",
    "s1 union s2 = {10,20,30,40,50,60,70,80}\n",
    "\n",
    "s1 intersection s2 = {40,50}\n",
    "\n",
    "s1 difference s2 = {10,20,30}\n",
    "s2 difference s1 = {60,70,80}\n",
    "\n",
    "s1  symmetric difference s2 = {10,20,30,60,70,80}\n",
    "\n",
    "s3 = {10,20}\n",
    "\n",
    "s3 is subset of s1 \n",
    "s1 is superset of s3"
   ]
  },
  {
   "cell_type": "code",
   "execution_count": 69,
   "metadata": {},
   "outputs": [
    {
     "name": "stdout",
     "output_type": "stream",
     "text": [
      "<class 'set'>\n"
     ]
    }
   ],
   "source": [
    "s = set()\n",
    "print(type(s))"
   ]
  },
  {
   "cell_type": "code",
   "execution_count": 3,
   "metadata": {},
   "outputs": [],
   "source": [
    "s1 = {10,20,30,40,50,60}\n",
    "s2 = {40,50,60,70,80,90}\n",
    "# s1.add(80)\n",
    "# print(s1)"
   ]
  },
  {
   "cell_type": "code",
   "execution_count": 74,
   "metadata": {},
   "outputs": [
    {
     "name": "stdout",
     "output_type": "stream",
     "text": [
      "{70, 40, 10, 80, 50, 20, 90, 60, 30}\n"
     ]
    }
   ],
   "source": [
    "s3 = s1.union(s2)\n",
    "print(s3)"
   ]
  },
  {
   "cell_type": "code",
   "execution_count": 2,
   "metadata": {},
   "outputs": [
    {
     "name": "stdout",
     "output_type": "stream",
     "text": [
      "{40, 10, 50, 20, 60, 30}\n",
      "{70, 40, 10, 80, 50, 20, 90, 60, 30}\n"
     ]
    }
   ],
   "source": [
    "print(s1)\n",
    "s1.update(s2)\n",
    "print(s1)"
   ]
  },
  {
   "cell_type": "code",
   "execution_count": 75,
   "metadata": {},
   "outputs": [
    {
     "name": "stdout",
     "output_type": "stream",
     "text": [
      "{40, 50, 60}\n"
     ]
    }
   ],
   "source": [
    "s4 = s1.intersection(s2)\n",
    "print(s4)"
   ]
  },
  {
   "cell_type": "code",
   "execution_count": 2,
   "metadata": {},
   "outputs": [
    {
     "name": "stdout",
     "output_type": "stream",
     "text": [
      "{40, 10, 50, 20, 60, 30}\n",
      "{40, 50, 60}\n"
     ]
    }
   ],
   "source": [
    "print(s1)\n",
    "s1.intersection_update(s2)\n",
    "print(s1)"
   ]
  },
  {
   "cell_type": "code",
   "execution_count": 77,
   "metadata": {},
   "outputs": [
    {
     "name": "stdout",
     "output_type": "stream",
     "text": [
      "{10, 20, 30}\n",
      "{80, 90, 70}\n"
     ]
    }
   ],
   "source": [
    "s4 = s1.difference(s2)\n",
    "print(s4)\n",
    "s4 = s2.difference(s1)\n",
    "print(s4)"
   ]
  },
  {
   "cell_type": "code",
   "execution_count": 4,
   "metadata": {},
   "outputs": [
    {
     "name": "stdout",
     "output_type": "stream",
     "text": [
      "{40, 10, 50, 20, 60, 30}\n",
      "{10, 20, 30}\n"
     ]
    }
   ],
   "source": [
    "print(s1)\n",
    "s1.difference_update(s2)\n",
    "print(s1)"
   ]
  },
  {
   "cell_type": "code",
   "execution_count": 78,
   "metadata": {},
   "outputs": [
    {
     "name": "stdout",
     "output_type": "stream",
     "text": [
      "{80, 10, 20, 70, 90, 30}\n"
     ]
    }
   ],
   "source": [
    "s4 = s1.symmetric_difference(s2)\n",
    "print(s4)"
   ]
  },
  {
   "cell_type": "code",
   "execution_count": 8,
   "metadata": {},
   "outputs": [
    {
     "name": "stdout",
     "output_type": "stream",
     "text": [
      "True\n",
      "True\n"
     ]
    }
   ],
   "source": [
    "s1 = {10,20,30,40,50,60}\n",
    "s2 = {40,50,60,70,80,90}\n",
    "s3 = {10,20}\n",
    "print(s3.issubset(s1))\n",
    "print(s1.issuperset(s3))"
   ]
  },
  {
   "cell_type": "code",
   "execution_count": 11,
   "metadata": {},
   "outputs": [
    {
     "name": "stdout",
     "output_type": "stream",
     "text": [
      "[1, 2, 10, 14, 15, 20, 24, 25, 65, 100, 200]\n"
     ]
    }
   ],
   "source": [
    "l1 = [1,2,10,14,10,20,25,65,65]\n",
    "l2 = [100,200,10,14,15,20,24,10]\n",
    "\n",
    "s1 = set(l1)\n",
    "s2 = set(l2)\n",
    "s3 = s1.union(s2)\n",
    "l3 = sorted(s3)\n",
    "print(l3)\n"
   ]
  },
  {
   "cell_type": "code",
   "execution_count": null,
   "metadata": {},
   "outputs": [],
   "source": [
    "l = [10,20,30]\n",
    "s = set(l)\n",
    "l1 = list(s)"
   ]
  },
  {
   "cell_type": "code",
   "execution_count": null,
   "metadata": {},
   "outputs": [],
   "source": [
    "delete :\n",
    "    pop\n",
    "    remove \n",
    "    discard \n",
    "    clear \n",
    "    del "
   ]
  },
  {
   "cell_type": "code",
   "execution_count": 23,
   "metadata": {},
   "outputs": [
    {
     "name": "stdout",
     "output_type": "stream",
     "text": [
      "set()\n"
     ]
    },
    {
     "ename": "NameError",
     "evalue": "name 's' is not defined",
     "output_type": "error",
     "traceback": [
      "\u001b[1;31m---------------------------------------------------------------------------\u001b[0m",
      "\u001b[1;31mNameError\u001b[0m                                 Traceback (most recent call last)",
      "\u001b[1;32m<ipython-input-23-30bfbcf0809d>\u001b[0m in \u001b[0;36m<module>\u001b[1;34m()\u001b[0m\n\u001b[0;32m     13\u001b[0m \u001b[1;33m\u001b[0m\u001b[0m\n\u001b[0;32m     14\u001b[0m \u001b[1;32mdel\u001b[0m \u001b[0ms\u001b[0m\u001b[1;33m\u001b[0m\u001b[0m\n\u001b[1;32m---> 15\u001b[1;33m \u001b[0mprint\u001b[0m\u001b[1;33m(\u001b[0m\u001b[0ms\u001b[0m\u001b[1;33m)\u001b[0m\u001b[1;33m\u001b[0m\u001b[0m\n\u001b[0m",
      "\u001b[1;31mNameError\u001b[0m: name 's' is not defined"
     ]
    }
   ],
   "source": [
    "s = {10,20,30,40,50,60}\n",
    "# r = s.pop()\n",
    "# print(s,r)\n",
    "\n",
    "# s.remove(40)\n",
    "# print(s)\n",
    "\n",
    "# s.discard(200)\n",
    "# print(s)\n",
    "\n",
    "# s.clear()\n",
    "# print(s)\n",
    "\n",
    "# del s\n",
    "# print(s)"
   ]
  },
  {
   "cell_type": "code",
   "execution_count": null,
   "metadata": {},
   "outputs": [],
   "source": [
    "list \n",
    "    pop \n",
    "    remove   \n",
    "    clear \n",
    "    del\n",
    "\n",
    "dict \n",
    "    pop\n",
    "    popitem  \n",
    "    clear \n",
    "    del\n",
    "set\n",
    "    pop \n",
    "    remove \n",
    "    discrad \n",
    "    clear \n",
    "    del "
   ]
  },
  {
   "cell_type": "code",
   "execution_count": 26,
   "metadata": {},
   "outputs": [
    {
     "name": "stdout",
     "output_type": "stream",
     "text": [
      "(8+10j)\n"
     ]
    }
   ],
   "source": [
    "a = 3 + 4j\n",
    "b = 5 + 6j\n",
    "\n",
    "print(a + b)"
   ]
  }
 ],
 "metadata": {
  "kernelspec": {
   "display_name": "Python 3",
   "language": "python",
   "name": "python3"
  },
  "language_info": {
   "codemirror_mode": {
    "name": "ipython",
    "version": 3
   },
   "file_extension": ".py",
   "mimetype": "text/x-python",
   "name": "python",
   "nbconvert_exporter": "python",
   "pygments_lexer": "ipython3",
   "version": "3.6.5"
  }
 },
 "nbformat": 4,
 "nbformat_minor": 2
}
