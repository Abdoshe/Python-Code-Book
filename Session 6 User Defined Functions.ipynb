{
 "cells": [
  {
   "cell_type": "code",
   "execution_count": null,
   "metadata": {},
   "outputs": [],
   "source": [
    "fun call \n",
    "fun def "
   ]
  },
  {
   "cell_type": "code",
   "execution_count": 1,
   "metadata": {},
   "outputs": [
    {
     "name": "stdout",
     "output_type": "stream",
     "text": [
      "0\n"
     ]
    }
   ],
   "source": [
    "s = \"Python sample string\"\n",
    "print(s.index(\"Python\"))"
   ]
  },
  {
   "cell_type": "code",
   "execution_count": 15,
   "metadata": {},
   "outputs": [
    {
     "name": "stdout",
     "output_type": "stream",
     "text": [
      "10 20\n",
      "30\n",
      "Python Java\n",
      "('PythonJava', 'Python', 'Java')\n",
      "[10, 20, 30, 40] [1, 2, 3, 4, 5]\n",
      "([10, 20, 30, 40, 1, 2, 3, 4, 5], [10, 20, 30, 40], [1, 2, 3, 4, 5])\n"
     ]
    }
   ],
   "source": [
    "def add(num1,num2):\n",
    "    print(num1,num2)\n",
    "    num3 = num1 + num2\n",
    "    return num3,num1,num2\n",
    "\n",
    "a,b,c = add(10,20)\n",
    "print(a)\n",
    "\n",
    "result = add(\"Python\",\"Java\")\n",
    "print(result)\n",
    "\n",
    "\n",
    "result = add([10,20,30,40],[1,2,3,4,5])\n",
    "print(result)\n",
    "\n",
    "# result = add(\"Python\",10)\n",
    "# print(result)"
   ]
  },
  {
   "cell_type": "code",
   "execution_count": 19,
   "metadata": {},
   "outputs": [
    {
     "name": "stdout",
     "output_type": "stream",
     "text": [
      "False\n"
     ]
    }
   ],
   "source": [
    "def linear_search(l,key):\n",
    "    for value in l:\n",
    "        if key == value:\n",
    "            return True\n",
    "    else:        \n",
    "        return False\n",
    "\n",
    "l = [10,20,30,40,50,60]\n",
    "key = 500 \n",
    "result = linear_search(l,key)\n",
    "print(result)"
   ]
  },
  {
   "cell_type": "code",
   "execution_count": null,
   "metadata": {},
   "outputs": [],
   "source": [
    "Parameter Passing Techniques :\n",
    "    1. Positional args => total no of args in fun def and fun call should be same , seqential mapping of args\n",
    "    2. Default args => set a default for args and it will be if value for arg is not passed \n",
    "    3. Variable length positional *args => tuple  => packing\n",
    "    4. Keyword args => \n",
    "    5. Variable length keyword => packing => **kwargs  \n",
    "    6. Unpacking *l-positioanl  **d-keyword  "
   ]
  },
  {
   "cell_type": "code",
   "execution_count": 21,
   "metadata": {},
   "outputs": [
    {
     "ename": "TypeError",
     "evalue": "add() takes 2 positional arguments but 3 were given",
     "output_type": "error",
     "traceback": [
      "\u001b[1;31m---------------------------------------------------------------------------\u001b[0m",
      "\u001b[1;31mTypeError\u001b[0m                                 Traceback (most recent call last)",
      "\u001b[1;32m<ipython-input-21-70a12b680de0>\u001b[0m in \u001b[0;36m<module>\u001b[1;34m()\u001b[0m\n\u001b[0;32m      4\u001b[0m     \u001b[1;32mreturn\u001b[0m \u001b[0mnum3\u001b[0m\u001b[1;33m,\u001b[0m\u001b[0mnum1\u001b[0m\u001b[1;33m,\u001b[0m\u001b[0mnum2\u001b[0m\u001b[1;33m\u001b[0m\u001b[0m\n\u001b[0;32m      5\u001b[0m \u001b[1;33m\u001b[0m\u001b[0m\n\u001b[1;32m----> 6\u001b[1;33m \u001b[0mresult\u001b[0m \u001b[1;33m=\u001b[0m \u001b[0madd\u001b[0m\u001b[1;33m(\u001b[0m\u001b[1;34m\"Python\"\u001b[0m\u001b[1;33m,\u001b[0m\u001b[1;34m\"Java\"\u001b[0m\u001b[1;33m,\u001b[0m\u001b[1;34m\"C\"\u001b[0m\u001b[1;33m)\u001b[0m\u001b[1;33m\u001b[0m\u001b[0m\n\u001b[0m\u001b[0;32m      7\u001b[0m \u001b[0mprint\u001b[0m\u001b[1;33m(\u001b[0m\u001b[0mresult\u001b[0m\u001b[1;33m)\u001b[0m\u001b[1;33m\u001b[0m\u001b[0m\n",
      "\u001b[1;31mTypeError\u001b[0m: add() takes 2 positional arguments but 3 were given"
     ]
    }
   ],
   "source": [
    "def add(num1,num2):\n",
    "    print(num1,num2)\n",
    "    num3 = num1 + num2\n",
    "    return num3,num1,num2\n",
    "\n",
    "result = add(\"Python\",\"Java\")\n",
    "print(result)"
   ]
  },
  {
   "cell_type": "code",
   "execution_count": 29,
   "metadata": {},
   "outputs": [
    {
     "name": "stdout",
     "output_type": "stream",
     "text": [
      "60\n",
      "210\n",
      "150\n"
     ]
    }
   ],
   "source": [
    "def add(*args):\n",
    "    return sum(args)\n",
    "#     print(num1,num2)\n",
    "#     num3 = num1 + num2\n",
    "#     return num3\n",
    "\n",
    "\n",
    "result = add(10,20,30)\n",
    "print(result)\n",
    "\n",
    "\n",
    "result = add(10,20,30,40,50,60)\n",
    "print(result)\n",
    "\n",
    "\n",
    "result = add(10,20,30,40,50)\n",
    "print(result)"
   ]
  },
  {
   "cell_type": "code",
   "execution_count": 25,
   "metadata": {},
   "outputs": [
    {
     "name": "stdout",
     "output_type": "stream",
     "text": [
      "Help on built-in function print in module builtins:\n",
      "\n",
      "print(...)\n",
      "    print(value, ..., sep=' ', end='\\n', file=sys.stdout, flush=False)\n",
      "    \n",
      "    Prints the values to a stream, or to sys.stdout by default.\n",
      "    Optional keyword arguments:\n",
      "    file:  a file-like object (stream); defaults to the current sys.stdout.\n",
      "    sep:   string inserted between values, default a space.\n",
      "    end:   string appended after the last value, default a newline.\n",
      "    flush: whether to forcibly flush the stream.\n",
      "\n"
     ]
    }
   ],
   "source": [
    "\n",
    "help(print)"
   ]
  },
  {
   "cell_type": "code",
   "execution_count": 36,
   "metadata": {
    "scrolled": true
   },
   "outputs": [
    {
     "name": "stdout",
     "output_type": "stream",
     "text": [
      "[11, 22, 33, 44, 55]\n"
     ]
    }
   ],
   "source": [
    "# def add_list(*args):\n",
    "#     result = []\n",
    "#     for index in range(len(args[0])):\n",
    "#         sum = 0\n",
    "#         for l in args:\n",
    "#             sum =  sum + l[index]\n",
    "#         result.append(sum)\n",
    "#     return result\n",
    "\n",
    "def add_list(*args):\n",
    "    result = []\n",
    "    \n",
    "    for l in args:\n",
    "        if result == []:\n",
    "            result.extend(l)\n",
    "        else:            \n",
    "            for index in range(len(l)):\n",
    "                result[index] = result[index] + l[index]\n",
    "\n",
    "    return result\n",
    "l1 = [1,2,3,4,5]\n",
    "l2 = [10,20,30,40,50]\n",
    "\n",
    "l3 = add_list(l1,l2)\n",
    "print(l3)\n",
    "# l4 = add_list(l1,l2,l3)\n",
    "# l5 = add_list(l1,l2,l3,l4)\n",
    "# print(l5)\n"
   ]
  },
  {
   "cell_type": "code",
   "execution_count": 41,
   "metadata": {},
   "outputs": [
    {
     "name": "stdout",
     "output_type": "stream",
     "text": [
      "valid\n",
      "valid\n"
     ]
    }
   ],
   "source": [
    "def auth(username,password):\n",
    "    if username ==\"abc\" and password ==\"abc@123\":\n",
    "        print(\"valid\")\n",
    "    else:\n",
    "        print(\"invalid\")\n",
    "        \n",
    "auth(\"abc\",\"abc@123\")\n",
    "auth(password = \"abc@123\",username = \"abc\")"
   ]
  },
  {
   "cell_type": "code",
   "execution_count": 45,
   "metadata": {},
   "outputs": [
    {
     "name": "stdout",
     "output_type": "stream",
     "text": [
      "10, 20 Hi\n"
     ]
    }
   ],
   "source": [
    "print(10,20,end = \" \",sep = \", \")\n",
    "print(\"Hi\")"
   ]
  },
  {
   "cell_type": "code",
   "execution_count": 52,
   "metadata": {},
   "outputs": [
    {
     "name": "stdout",
     "output_type": "stream",
     "text": [
      "(10, 20, 30, 40, 50) {'name': 'ABC', 'email': 'abc@gmail.com', 'contact': '712345678', 'dob': '12-12-2018'}\n",
      "ABC abc@gmail.com 712345678 12-12-2018\n",
      "() {'name': 'ABC', 'contact': '712345678', 'dob': '12-12-2018'}\n",
      "ABC None 712345678 12-12-2018\n",
      "() {'name': 'ABC', 'email': 'abc@gmail.com', 'dob': '12-12-2018'}\n",
      "ABC abc@gmail.com None 12-12-2018\n"
     ]
    }
   ],
   "source": [
    "def user_details(*args,**kwargs):\n",
    "    print(args,kwargs)\n",
    "    name = kwargs.get(\"name\")\n",
    "    email = kwargs.get(\"email\")\n",
    "    contact = kwargs.get(\"contact\")\n",
    "    dob = kwargs.get(\"dob\")\n",
    "    \n",
    "    print(\"{} {} {} {}\".format(name,email,contact,dob))\n",
    "    \n",
    "user_details(10,20,30,40,50,name=\"ABC\",email = \"abc@gmail.com\",contact = \"712345678\",dob = \"12-12-2018\")\n",
    "user_details(name=\"ABC\",contact = \"712345678\",dob = \"12-12-2018\")\n",
    "user_details(name=\"ABC\",email = \"abc@gmail.com\",dob = \"12-12-2018\")\n"
   ]
  },
  {
   "cell_type": "code",
   "execution_count": 58,
   "metadata": {},
   "outputs": [
    {
     "name": "stdout",
     "output_type": "stream",
     "text": [
      "10 20 30\n",
      "num3 num2 num1\n"
     ]
    }
   ],
   "source": [
    "def printVal(num1,num2,num3):\n",
    "    print(num1,num2,num3)\n",
    "    \n",
    "l = [10,20,30]\n",
    "printVal(*l)\n",
    "\n",
    "d = {\"num3\":10,\"num2\":20,\"num1\":30}\n",
    "printVal(**d)"
   ]
  },
  {
   "cell_type": "code",
   "execution_count": 1,
   "metadata": {},
   "outputs": [
    {
     "ename": "NameError",
     "evalue": "name 'num1' is not defined",
     "output_type": "error",
     "traceback": [
      "\u001b[1;31m---------------------------------------------------------------------------\u001b[0m",
      "\u001b[1;31mNameError\u001b[0m                                 Traceback (most recent call last)",
      "\u001b[1;32m<ipython-input-1-2c5500cbc5ff>\u001b[0m in \u001b[0;36m<module>\u001b[1;34m()\u001b[0m\n\u001b[0;32m      6\u001b[0m \u001b[1;33m\u001b[0m\u001b[0m\n\u001b[0;32m      7\u001b[0m \u001b[1;31m# num1 = 100\u001b[0m\u001b[1;33m\u001b[0m\u001b[1;33m\u001b[0m\u001b[0m\n\u001b[1;32m----> 8\u001b[1;33m \u001b[0mprintVal\u001b[0m\u001b[1;33m(\u001b[0m\u001b[1;33m)\u001b[0m\u001b[1;33m\u001b[0m\u001b[0m\n\u001b[0m\u001b[0;32m      9\u001b[0m \u001b[0mprint\u001b[0m\u001b[1;33m(\u001b[0m\u001b[1;34m\"After fun call\"\u001b[0m\u001b[1;33m,\u001b[0m\u001b[0mnum1\u001b[0m\u001b[1;33m)\u001b[0m\u001b[1;33m\u001b[0m\u001b[0m\n",
      "\u001b[1;32m<ipython-input-1-2c5500cbc5ff>\u001b[0m in \u001b[0;36mprintVal\u001b[1;34m()\u001b[0m\n\u001b[0;32m      1\u001b[0m \u001b[1;32mdef\u001b[0m \u001b[0mprintVal\u001b[0m\u001b[1;33m(\u001b[0m\u001b[1;33m)\u001b[0m\u001b[1;33m:\u001b[0m\u001b[1;33m\u001b[0m\u001b[0m\n\u001b[0;32m      2\u001b[0m     \u001b[1;32mglobal\u001b[0m \u001b[0mnum1\u001b[0m\u001b[1;33m\u001b[0m\u001b[0m\n\u001b[1;32m----> 3\u001b[1;33m     \u001b[0mprint\u001b[0m\u001b[1;33m(\u001b[0m\u001b[1;34m\"Inside fun call\"\u001b[0m\u001b[1;33m,\u001b[0m\u001b[0mnum1\u001b[0m\u001b[1;33m)\u001b[0m\u001b[1;33m\u001b[0m\u001b[0m\n\u001b[0m\u001b[0;32m      4\u001b[0m     \u001b[0mnum1\u001b[0m \u001b[1;33m=\u001b[0m \u001b[1;36m200\u001b[0m\u001b[1;33m\u001b[0m\u001b[0m\n\u001b[0;32m      5\u001b[0m     \u001b[0mprint\u001b[0m\u001b[1;33m(\u001b[0m\u001b[1;34m\"after chaning the value\"\u001b[0m\u001b[1;33m,\u001b[0m\u001b[0mnum1\u001b[0m\u001b[1;33m)\u001b[0m\u001b[1;33m\u001b[0m\u001b[0m\n",
      "\u001b[1;31mNameError\u001b[0m: name 'num1' is not defined"
     ]
    }
   ],
   "source": [
    "def printVal():\n",
    "    global num1\n",
    "    print(\"Inside fun call\",num1)\n",
    "    num1 = 200\n",
    "    print(\"after chaning the value\",num1)\n",
    "    \n",
    "num1 = 100\n",
    "printVal()\n",
    "print(\"After fun call\",num1)"
   ]
  },
  {
   "cell_type": "code",
   "execution_count": null,
   "metadata": {},
   "outputs": [],
   "source": [
    "factorial(5) = 5 * 4!\n",
    "               5 * 4 * 3!\n",
    "               5 * 4 * 3 * 2 !\n",
    "               5 * 4 * 3 * 2 * 1 !\n",
    "               5 * 4 * 3 * 2 * 1"
   ]
  },
  {
   "cell_type": "code",
   "execution_count": 2,
   "metadata": {},
   "outputs": [
    {
     "name": "stdout",
     "output_type": "stream",
     "text": [
      "120\n"
     ]
    }
   ],
   "source": [
    "def fact(num):\n",
    "    if num == 1:\n",
    "        return 1\n",
    "    else:\n",
    "        return num * fact(num -1)\n",
    "\n",
    "print(fact(5))"
   ]
  },
  {
   "cell_type": "code",
   "execution_count": null,
   "metadata": {},
   "outputs": [],
   "source": [
    "fact(5) = >return 5 * fact(4) => 5 * 24 = 120 \n",
    "               return 4 * fact(3) = 4 * 6 = 24 \n",
    "                 return 3 * fact(2) = 3 * 2 =>6\n",
    "                    return 2 * fact(1) = 2 * 1 = 2\n",
    "                     return 1     "
   ]
  },
  {
   "cell_type": "code",
   "execution_count": null,
   "metadata": {},
   "outputs": [],
   "source": [
    "l = [10,15,20,25,40,45]\n",
    "key = 40\n",
    "\n",
    "1 mid = len(l) / 2 \n",
    "        mid = 25 key = 40 \n",
    "        1 if key == l[mid] \n",
    "              return True \n",
    "        2 if key > mid \n",
    "        \n",
    "        3 key < mid \n",
    "           l [ 40,45] key =40\n",
    "                mid = 45  45 == 40 \n",
    "                \n",
    "                if key > mid \n",
    "                \n",
    "                if key < mid \n",
    "                    [40]\n",
    "                    mid 1 / 2 = 0\n",
    "                    40 == 40 True \n",
    "            "
   ]
  },
  {
   "cell_type": "code",
   "execution_count": 15,
   "metadata": {},
   "outputs": [
    {
     "name": "stdout",
     "output_type": "stream",
     "text": [
      "False\n"
     ]
    }
   ],
   "source": [
    "def binary_search(l,key):\n",
    "    \n",
    "    if not l:\n",
    "        return False\n",
    "    else:        \n",
    "        mid = len(l) // 2\n",
    "        if key == l[mid]:\n",
    "            return True\n",
    "        elif key < l[mid]:\n",
    "            return binary_search(l[0:mid],key)\n",
    "        else:\n",
    "            return binary_search(l[mid+1:],key)\n",
    "\n",
    "l = [10,15,20,25,40,45]\n",
    "key = 100\n",
    "\n",
    "print(binary_search(l,key))"
   ]
  },
  {
   "cell_type": "code",
   "execution_count": 9,
   "metadata": {},
   "outputs": [
    {
     "ename": "IndentationError",
     "evalue": "unexpected indent (<ipython-input-9-8149d4eca7ba>, line 2)",
     "output_type": "error",
     "traceback": [
      "\u001b[1;36m  File \u001b[1;32m\"<ipython-input-9-8149d4eca7ba>\"\u001b[1;36m, line \u001b[1;32m2\u001b[0m\n\u001b[1;33m    bs([40,45],40)\u001b[0m\n\u001b[1;37m    ^\u001b[0m\n\u001b[1;31mIndentationError\u001b[0m\u001b[1;31m:\u001b[0m unexpected indent\n"
     ]
    }
   ],
   "source": [
    "bs(l,40)\n",
    "    bs([40,45],40)\n",
    "        bs([40],40)\n",
    "           return true \n",
    "    "
   ]
  }
 ],
 "metadata": {
  "kernelspec": {
   "display_name": "Python 3",
   "language": "python",
   "name": "python3"
  }
 },
 "nbformat": 4,
 "nbformat_minor": 2
}
