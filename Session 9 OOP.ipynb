{
 "cells": [
  {
   "cell_type": "code",
   "execution_count": null,
   "metadata": {},
   "outputs": [],
   "source": [
    "Class \n",
    "Object "
   ]
  },
  {
   "cell_type": "code",
   "execution_count": null,
   "metadata": {},
   "outputs": [],
   "source": [
    "Paytm\n",
    "    number \n",
    "    email \n",
    "    adhar no \n",
    "    \n",
    "    trasaction history \n",
    "    \n",
    "    recharge \n",
    "    send money \n",
    "    add money to wallet "
   ]
  },
  {
   "cell_type": "code",
   "execution_count": null,
   "metadata": {},
   "outputs": [],
   "source": [
    "Class : data members / variables \n",
    "        methods \n",
    "        \n",
    "user1 \n",
    "user2"
   ]
  },
  {
   "cell_type": "code",
   "execution_count": null,
   "metadata": {},
   "outputs": [],
   "source": [
    "Emp :\n",
    "    id\n",
    "    name \n",
    "    email \n",
    "    dept \n",
    "    salary \n",
    "    \n",
    "    \n",
    "    get_detail\n",
    "    incr_sal \n",
    "    update_dept "
   ]
  },
  {
   "cell_type": "code",
   "execution_count": 1,
   "metadata": {},
   "outputs": [],
   "source": [
    "class Emp:\n",
    "    def __init__(self,id,name,email):\n",
    "        self.emp_id = id \n",
    "        self.name = name \n",
    "        self.email = email \n",
    "        \n",
    "    def set_dept(self,dept_name):\n",
    "        self.dept = dept_name\n",
    "        \n",
    "    def set_salary(self,salary):\n",
    "        self.salary = salary\n",
    "        \n",
    "    def incr_sal(self,per = 30):\n",
    "        self.salary = self.salary + (self.salary * per) / 100\n",
    "        return self.salary\n",
    "    \n",
    "    def get_details(self):\n",
    "        return self.emp_id,self.email,self.name\n"
   ]
  },
  {
   "cell_type": "code",
   "execution_count": 3,
   "metadata": {},
   "outputs": [
    {
     "name": "stdout",
     "output_type": "stream",
     "text": [
      "<__main__.Emp object at 0x0000026E36E510B8>\n",
      "<__main__.Emp object at 0x0000026E36E510F0>\n"
     ]
    }
   ],
   "source": [
    "emp1 = Emp(101,\"ABC\",\"abc@xyz.com\")\n",
    "\n",
    "print(emp1)\n",
    "\n",
    "emp2 = Emp(102,\"PQR\",'pqr@xyz.com')\n",
    "print(emp2)"
   ]
  },
  {
   "cell_type": "code",
   "execution_count": 18,
   "metadata": {},
   "outputs": [
    {
     "name": "stdout",
     "output_type": "stream",
     "text": [
      "101\n",
      "None\n"
     ]
    }
   ],
   "source": [
    "print(emp1.emp_id)\n",
    "print(emp2.email)"
   ]
  },
  {
   "cell_type": "code",
   "execution_count": 25,
   "metadata": {},
   "outputs": [
    {
     "ename": "AttributeError",
     "evalue": "'Emp' object has no attribute 'dept'",
     "output_type": "error",
     "traceback": [
      "\u001b[1;31m---------------------------------------------------------------------------\u001b[0m",
      "\u001b[1;31mAttributeError\u001b[0m                            Traceback (most recent call last)",
      "\u001b[1;32m<ipython-input-25-d6abe61a82d1>\u001b[0m in \u001b[0;36m<module>\u001b[1;34m()\u001b[0m\n\u001b[1;32m----> 1\u001b[1;33m \u001b[0mprint\u001b[0m\u001b[1;33m(\u001b[0m\u001b[0memp1\u001b[0m\u001b[1;33m.\u001b[0m\u001b[0mdept\u001b[0m\u001b[1;33m)\u001b[0m\u001b[1;33m\u001b[0m\u001b[0m\n\u001b[0m",
      "\u001b[1;31mAttributeError\u001b[0m: 'Emp' object has no attribute 'dept'"
     ]
    }
   ],
   "source": [
    "print(emp1.dept)"
   ]
  },
  {
   "cell_type": "code",
   "execution_count": null,
   "metadata": {},
   "outputs": [],
   "source": [
    "emp1.set_dept(\"HR\")"
   ]
  },
  {
   "cell_type": "code",
   "execution_count": null,
   "metadata": {},
   "outputs": [],
   "source": [
    "Instance variable and Instance variable "
   ]
  },
  {
   "cell_type": "code",
   "execution_count": 3,
   "metadata": {},
   "outputs": [],
   "source": [
    "emp1.set_dept(\"HR\")\n",
    "emp1.set_salary(45000)"
   ]
  },
  {
   "cell_type": "code",
   "execution_count": 27,
   "metadata": {},
   "outputs": [
    {
     "name": "stdout",
     "output_type": "stream",
     "text": [
      "HR\n"
     ]
    }
   ],
   "source": [
    "print(emp1.dept)"
   ]
  },
  {
   "cell_type": "code",
   "execution_count": 4,
   "metadata": {},
   "outputs": [
    {
     "name": "stdout",
     "output_type": "stream",
     "text": [
      "63000.0\n"
     ]
    }
   ],
   "source": [
    "print(emp1.incr_sal(40))\n",
    "# emp.incr_sal()"
   ]
  },
  {
   "cell_type": "code",
   "execution_count": 4,
   "metadata": {},
   "outputs": [
    {
     "name": "stdout",
     "output_type": "stream",
     "text": [
      "(101, 'abc@xyz.com', 'ABC')\n"
     ]
    }
   ],
   "source": [
    "print(emp1.get_details())"
   ]
  },
  {
   "cell_type": "code",
   "execution_count": null,
   "metadata": {},
   "outputs": [],
   "source": [
    "Student \n",
    "   roll_no \n",
    "   \n",
    "   name \n",
    "   marks = [50,60,70,80,50]\n",
    "    \n",
    "   calculate per \n",
    "   calculate result pass / fail  if per < 40 => fail per > 40 = pass \n",
    "\n",
    "   details of all failed students "
   ]
  },
  {
   "cell_type": "code",
   "execution_count": null,
   "metadata": {},
   "outputs": [],
   "source": [
    "class Emp:\n",
    "    def create_emp(self,id,name,email):\n",
    "        self.id = id \n",
    "        \n",
    "emp1 = Emp()\n",
    "emp1.create_emp(101,\"ABC\",\"abc@xyz.com\")"
   ]
  },
  {
   "cell_type": "code",
   "execution_count": 15,
   "metadata": {},
   "outputs": [],
   "source": [
    "class Student:\n",
    "    def __init__(self,roll_no,name,marks):\n",
    "        self.roll_no = roll_no\n",
    "        self.name = name\n",
    "        self.marks = marks\n",
    "        \n",
    "    def cal_percentage(self):\n",
    "        self.per = (sum(self.marks) / 5)\n",
    "        \n",
    "    def cal_result(self):\n",
    "        if self.per < 40 :\n",
    "            self.result = \"Fail\"\n",
    "        else:\n",
    "            self.result = \"Pass\"\n",
    "    \n",
    "    def get_details(self):\n",
    "        return(self.roll_no,self.name,self.per,self.result)\n",
    "    "
   ]
  },
  {
   "cell_type": "code",
   "execution_count": 16,
   "metadata": {},
   "outputs": [],
   "source": [
    "stud1 = Student(1,\"ABC\",[50,50,40,50,50])\n",
    "stud2 = Student(2,\"PQR\",[50,70,40,80,50])\n",
    "stud3 = Student(3,\"RST\",[36,38,28,30,50])\n",
    "stud4 = Student(4,\"XYZ\",[36,38,28,30,50])\n",
    "stud5 = Student(5,\"QWE\",[36,38,28,30,50])\n",
    "students = [stud1,stud2,stud3,stud4,stud5]"
   ]
  },
  {
   "cell_type": "code",
   "execution_count": 17,
   "metadata": {},
   "outputs": [],
   "source": [
    "for stud in students:\n",
    "    stud.cal_percentage()\n",
    "    stud.cal_result()"
   ]
  },
  {
   "cell_type": "code",
   "execution_count": 18,
   "metadata": {},
   "outputs": [
    {
     "name": "stdout",
     "output_type": "stream",
     "text": [
      "(3, 'RST', 36.4, 'Fail')\n",
      "(4, 'XYZ', 36.4, 'Fail')\n",
      "(5, 'QWE', 36.4, 'Fail')\n"
     ]
    }
   ],
   "source": [
    "for stud in students:\n",
    "    if stud.result == \"Fail\":\n",
    "        print(stud.get_details())"
   ]
  },
  {
   "cell_type": "code",
   "execution_count": null,
   "metadata": {},
   "outputs": [],
   "source": [
    "Course :\n",
    "    course_id \n",
    "    name \n",
    "    category \n",
    "    creator\n",
    "    \n",
    "Tutorials :\n",
    "    tutorial_id \n",
    "    course \n",
    "    name \n",
    "    content\n",
    " \n",
    "\n",
    "all the tutorial for course \"Python\"\n",
    "all the tutorials of creator \"ABC\""
   ]
  },
  {
   "cell_type": "code",
   "execution_count": 19,
   "metadata": {},
   "outputs": [],
   "source": [
    "class Course:\n",
    "    def __init__(self,id,name,category,creator):\n",
    "        self.course_id = id\n",
    "        self.name = name\n",
    "        self.category = category\n",
    "        self.creator = creator\n",
    "        \n",
    "class Tutorial:\n",
    "    def __init__(self,id,course,title,content):\n",
    "        self.tut_id = id\n",
    "        self.course = course\n",
    "        self.title = title\n",
    "        self.content = content\n",
    "        \n",
    "        "
   ]
  },
  {
   "cell_type": "code",
   "execution_count": 20,
   "metadata": {},
   "outputs": [],
   "source": [
    "course1 = Course(1,\"Python\",\"Programming\",\"ABC\")\n",
    "course2 = Course(2,\"Data Science\",\"AI\",\"ABC\")\n",
    "course3 = Course(3,\"Machine Leraning\",\"AI\",\"ABC\")\n",
    "course4 = Course(4,\"AWS\",\"Cloud\",\"PQR\")\n",
    "course5 = Course(5,\"Azure\",\"Cloud\",\"PQR\")\n",
    "\n",
    "tut1 = Tutorial(101,course1,\"Python Basics\",\"Python Basics\")\n",
    "tut2 = Tutorial(102,course1,\"Python Lists\",\"Python Lists\")\n",
    "tut3 = Tutorial(103,course1,\"Python Dict\",\"Python Dict\")\n",
    "\n",
    "tut4 = Tutorial(104,course2,\"DS Numpy\",\"Numpy\")\n",
    "\n",
    "\n"
   ]
  },
  {
   "cell_type": "code",
   "execution_count": 21,
   "metadata": {},
   "outputs": [],
   "source": [
    "courses = [course1,course2,course3,course4,course5]\n",
    "tuts = [tut1,tut2,tut3,tut4]"
   ]
  },
  {
   "cell_type": "code",
   "execution_count": 22,
   "metadata": {},
   "outputs": [
    {
     "name": "stdout",
     "output_type": "stream",
     "text": [
      "101 Python Basics Python Basics\n",
      "102 Python Lists Python Lists\n",
      "103 Python Dict Python Dict\n"
     ]
    }
   ],
   "source": [
    "for tut in tuts:\n",
    "    if tut.course.name == \"Python\":\n",
    "        print(tut.tut_id,tut.title,tut.content)\n",
    "    "
   ]
  },
  {
   "cell_type": "code",
   "execution_count": 24,
   "metadata": {},
   "outputs": [
    {
     "name": "stdout",
     "output_type": "stream",
     "text": [
      "[<__main__.Course object at 0x0000026E36EFA438>, <__main__.Course object at 0x0000026E36EFA470>, <__main__.Course object at 0x0000026E36EFA4E0>]\n",
      "101 Python Basics Python Basics\n",
      "102 Python Lists Python Lists\n",
      "103 Python Dict Python Dict\n",
      "104 DS Numpy Numpy\n"
     ]
    }
   ],
   "source": [
    "courses_abc = []\n",
    "for course in courses:\n",
    "    if course.creator == \"ABC\":\n",
    "        courses_abc.append(course)\n",
    "print(courses_abc)\n",
    "\n",
    "for tut in tuts:\n",
    "    if tut.course in courses_abc:\n",
    "        print(tut.tut_id,tut.title,tut.content)\n",
    "        "
   ]
  },
  {
   "cell_type": "code",
   "execution_count": 25,
   "metadata": {},
   "outputs": [
    {
     "name": "stdout",
     "output_type": "stream",
     "text": [
      "<class 'list'>\n"
     ]
    }
   ],
   "source": [
    "l = [10,20,30,40,50]\n",
    "print(type(l))\n",
    "l.append(60)"
   ]
  },
  {
   "cell_type": "code",
   "execution_count": null,
   "metadata": {},
   "outputs": [],
   "source": [
    "class list:\n",
    "    def append(self)"
   ]
  },
  {
   "cell_type": "code",
   "execution_count": 81,
   "metadata": {},
   "outputs": [],
   "source": [
    "class Emp:\n",
    "    count = 0\n",
    "    emps = []\n",
    "    \n",
    "    @classmethod\n",
    "    def incr_count(cls):\n",
    "        cls.count +=1\n",
    "        \n",
    "    @classmethod    \n",
    "    def add_emp(cls,obj):\n",
    "        cls.emps.append(obj)\n",
    "        \n",
    "    @classmethod\n",
    "    def get_count(cls):\n",
    "        return cls.count\n",
    "    \n",
    "    def __init__(self,id,name,email):\n",
    "        self.__emp_id = id \n",
    "        self.__name = name \n",
    "        self.email = email\n",
    "        Emp.incr_count()\n",
    "        Emp.add_emp(self)\n",
    "        \n",
    "    def get_emp_id(self):\n",
    "        return self.__emp_id\n",
    "    \n",
    "    def get_name(self):\n",
    "        return self.__name\n",
    "        \n",
    "    def set_name(self,new_name):\n",
    "        self.__name = new_name\n",
    "        return self.__name\n",
    "        \n",
    "    def set_dept(self,dept_name):\n",
    "        self.dept = dept_name\n",
    "        \n",
    "    def set_salary(self,salary):\n",
    "        self.salary = salary\n",
    "        \n",
    "    def incr_sal(self,per = 30):\n",
    "        self.salary = self.salary + (self.salary * per) / 100\n",
    "        return self.salary\n",
    "    \n",
    "    def get_details(self):\n",
    "        return self.__emp_id,self.email,self.__name\n"
   ]
  },
  {
   "cell_type": "code",
   "execution_count": 82,
   "metadata": {},
   "outputs": [
    {
     "name": "stdout",
     "output_type": "stream",
     "text": [
      "0\n"
     ]
    }
   ],
   "source": [
    "print(Emp.get_count())"
   ]
  },
  {
   "cell_type": "code",
   "execution_count": 83,
   "metadata": {},
   "outputs": [
    {
     "name": "stdout",
     "output_type": "stream",
     "text": [
      "<__main__.Emp object at 0x0000026E36F28080>\n",
      "<__main__.Emp object at 0x0000026E36F286A0>\n"
     ]
    }
   ],
   "source": [
    "emp1 = Emp(101,\"ABC\",\"abc@xyz.com\")\n",
    "\n",
    "print(emp1)\n",
    "\n",
    "emp2 = Emp(102,\"PQR\",'pqr@xyz.com')\n",
    "print(emp2)"
   ]
  },
  {
   "cell_type": "code",
   "execution_count": 84,
   "metadata": {},
   "outputs": [
    {
     "name": "stdout",
     "output_type": "stream",
     "text": [
      "2\n"
     ]
    }
   ],
   "source": [
    "print(Emp.get_count())"
   ]
  },
  {
   "cell_type": "code",
   "execution_count": 80,
   "metadata": {},
   "outputs": [
    {
     "name": "stdout",
     "output_type": "stream",
     "text": [
      "[<__main__.Emp object at 0x0000026E36F21630>, <__main__.Emp object at 0x0000026E36F21320>]\n",
      "(101, 'abc@xyz.com', 'ABC')\n",
      "(102, 'pqr@xyz.com', 'PQR')\n"
     ]
    }
   ],
   "source": [
    "print(Emp.emps)\n",
    "\n",
    "for emp in Emp.emps:\n",
    "    print(emp.get_details())"
   ]
  },
  {
   "cell_type": "code",
   "execution_count": 48,
   "metadata": {},
   "outputs": [
    {
     "name": "stdout",
     "output_type": "stream",
     "text": [
      "{'_Emp__emp_id': 101, '_Emp__name': 'OIU', 'email': 'abc@xyz.com'}\n",
      "101\n",
      "OIU\n",
      "OIU\n",
      "OIU\n"
     ]
    }
   ],
   "source": [
    "print(emp1.__dict__)\n",
    "print(emp1.get_emp_id())\n",
    "print(emp1.get_name())\n",
    "print(emp1.set_name(\"OIU\"))\n",
    "print(emp1.get_name())"
   ]
  },
  {
   "cell_type": "code",
   "execution_count": 79,
   "metadata": {
    "scrolled": true
   },
   "outputs": [
    {
     "name": "stdout",
     "output_type": "stream",
     "text": [
      "2\n",
      "2\n",
      "{'_Emp__emp_id': 101, '_Emp__name': 'ABC', 'email': 'abc@xyz.com'}\n",
      "{'__module__': '__main__', 'count': 2, 'emps': [<__main__.Emp object at 0x0000026E36F21630>, <__main__.Emp object at 0x0000026E36F21320>], 'incr_count': <classmethod object at 0x0000026E36F28828>, 'add_emp': <classmethod object at 0x0000026E36F288D0>, '__init__': <function Emp.__init__ at 0x0000026E36F24400>, 'get_emp_id': <function Emp.get_emp_id at 0x0000026E36F24378>, 'get_name': <function Emp.get_name at 0x0000026E36F24268>, 'set_name': <function Emp.set_name at 0x0000026E36F24158>, 'set_dept': <function Emp.set_dept at 0x0000026E36F240D0>, 'set_salary': <function Emp.set_salary at 0x0000026E36F24488>, 'incr_sal': <function Emp.incr_sal at 0x0000026E36F24510>, 'get_details': <function Emp.get_details at 0x0000026E36F24598>, '__dict__': <attribute '__dict__' of 'Emp' objects>, '__weakref__': <attribute '__weakref__' of 'Emp' objects>, '__doc__': None}\n"
     ]
    }
   ],
   "source": [
    "print(Emp.count)\n",
    "print(emp1.count)\n",
    "print(emp1.__dict__)\n",
    "print(Emp.__dict__)"
   ]
  },
  {
   "cell_type": "code",
   "execution_count": 55,
   "metadata": {},
   "outputs": [
    {
     "name": "stdout",
     "output_type": "stream",
     "text": [
      "<__main__.Emp object at 0x0000026E36F0E128>\n",
      "3\n"
     ]
    }
   ],
   "source": [
    "emp3 = Emp(103,\"PQR\",'pqr@xyz.com')\n",
    "print(emp3)\n",
    "print(emp1.count)"
   ]
  },
  {
   "cell_type": "code",
   "execution_count": 56,
   "metadata": {},
   "outputs": [
    {
     "name": "stdout",
     "output_type": "stream",
     "text": [
      "100\n",
      "100\n"
     ]
    }
   ],
   "source": [
    "Emp.count = 100\n",
    "print(Emp.count)\n",
    "print(emp1.count)"
   ]
  },
  {
   "cell_type": "code",
   "execution_count": 66,
   "metadata": {},
   "outputs": [
    {
     "name": "stdout",
     "output_type": "stream",
     "text": [
      "200\n",
      "{'_Emp__emp_id': 101, '_Emp__name': 'ABC', 'email': 'abc@xyz.com', 'count': 200}\n",
      "2\n",
      "{'__module__': '__main__', 'count': 2, '__init__': <function Emp.__init__ at 0x0000026E36E46D08>, 'get_emp_id': <function Emp.get_emp_id at 0x0000026E36E23D90>, 'get_name': <function Emp.get_name at 0x0000026E36E23598>, 'set_name': <function Emp.set_name at 0x0000026E36F1E048>, 'set_dept': <function Emp.set_dept at 0x0000026E36F1E0D0>, 'set_salary': <function Emp.set_salary at 0x0000026E36F1E158>, 'incr_sal': <function Emp.incr_sal at 0x0000026E36F1E1E0>, 'get_details': <function Emp.get_details at 0x0000026E36F1E268>, '__dict__': <attribute '__dict__' of 'Emp' objects>, '__weakref__': <attribute '__weakref__' of 'Emp' objects>, '__doc__': None}\n",
      "{'_Emp__emp_id': 101, '_Emp__name': 'ABC', 'email': 'abc@xyz.com', 'count': 200}\n"
     ]
    }
   ],
   "source": [
    "emp1.count = 200\n",
    "print(emp1.count)\n",
    "print(emp1.__dict__)\n",
    "print(Emp.count)\n",
    "print(Emp.__dict__)\n",
    "Emp.count = 300\n",
    "print(emp1.__dict__)"
   ]
  },
  {
   "cell_type": "code",
   "execution_count": null,
   "metadata": {},
   "outputs": [],
   "source": [
    "class Class_name:    \n",
    "    class_variable = 0\n",
    "    \n",
    "    def __init__(self)\n",
    "        self.variable_name = val\n",
    "obj_name = Class_name()\n",
    "print(obj_name.variable_name)\n",
    "\n",
    "__variable_name\n",
    "get_\n",
    "set_\n",
    "\n",
    "_Emp__variable_name\n",
    "\n",
    "emp1.count\n",
    "\n",
    "\n"
   ]
  },
  {
   "cell_type": "code",
   "execution_count": null,
   "metadata": {},
   "outputs": [],
   "source": [
    "\n",
    "def main()\n",
    "\n",
    "if __name__ == '__main__':\n",
    "    main()\n"
   ]
  }
 ],
 "metadata": {
  "kernelspec": {
   "display_name": "Python 3",
   "language": "python",
   "name": "python3"
  },
  "language_info": {
   "codemirror_mode": {
    "name": "ipython",
    "version": 3
   },
   "file_extension": ".py",
   "mimetype": "text/x-python",
   "name": "python",
   "nbconvert_exporter": "python",
   "pygments_lexer": "ipython3",
   "version": "3.6.5"
  }
 },
 "nbformat": 4,
 "nbformat_minor": 2
}
