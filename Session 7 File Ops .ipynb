{
 "cells": [
  {
   "cell_type": "code",
   "execution_count": null,
   "metadata": {},
   "outputs": [],
   "source": [
    "Modes to open a file :\n",
    "    1 read r r+ \n",
    "    2 write w w+\n",
    "    3 append a a+"
   ]
  },
  {
   "cell_type": "code",
   "execution_count": 1,
   "metadata": {},
   "outputs": [],
   "source": [
    "fp = open(\"test1.txt\",\"r\")\n",
    "fp.close()"
   ]
  },
  {
   "cell_type": "code",
   "execution_count": 3,
   "metadata": {},
   "outputs": [
    {
     "name": "stdout",
     "output_type": "stream",
     "text": [
      "This is Sample text line1\n",
      "This is Sample text line2\n",
      "This is Sample text line3\n",
      "This is Sample text line4\n",
      "This is Sample text line5\n",
      "\n"
     ]
    }
   ],
   "source": [
    "fp = open(\"test1.txt\",\"r\")\n",
    "content = fp.read()\n",
    "print(content)\n",
    "fp.close()"
   ]
  },
  {
   "cell_type": "code",
   "execution_count": 5,
   "metadata": {},
   "outputs": [
    {
     "name": "stdout",
     "output_type": "stream",
     "text": [
      "This is Sample text line1\n",
      "This is Sample text line\n",
      "2\n",
      "This is Sample text line3\n",
      "This is Sample text line4\n",
      "This is Sample text line5\n"
     ]
    }
   ],
   "source": [
    "fp = open(\"test1.txt\",\"r\")\n",
    "content = fp.read(50)\n",
    "print(content)\n",
    "\n",
    "content = fp.read()\n",
    "print(content)\n",
    "fp.close()"
   ]
  },
  {
   "cell_type": "code",
   "execution_count": 9,
   "metadata": {},
   "outputs": [
    {
     "name": "stdout",
     "output_type": "stream",
     "text": [
      "This is Sample text \n",
      "\n",
      "line1\n",
      "\n"
     ]
    }
   ],
   "source": [
    "fp = open(\"test1.txt\",\"r\")\n",
    "content = fp.readline()\n",
    "print(content)\n",
    "\n",
    "content = fp.readline()\n",
    "print(content)\n"
   ]
  },
  {
   "cell_type": "code",
   "execution_count": 15,
   "metadata": {},
   "outputs": [
    {
     "name": "stdout",
     "output_type": "stream",
     "text": [
      "['New Features\\n', 'PEP 563: Postponed Evaluation of Annotations\\n', 'The advent of type hints in Python uncovered two glaring usability issues with the functionality of annotations added in PEP 3107 and refined further in PEP 526:\\n', '\\n', 'annotations could only use names which were already available in the current scope, in other words they didn’t support forward references of any kind; and\\n', 'annotating source code had adverse effects on startup time of Python programs.\\n', 'Both of these issues are fixed by postponing the evaluation of annotations. Instead of compiling code which executes expressions in annotations at their definition time, the compiler stores the annotation in a string form equivalent to the AST of the expression in question. If needed, annotations can be resolved at runtime using typing.get_type_hints(). In the common case where this is not required, the annotations are cheaper to store (since short strings are interned by the interpreter) and make startup time faster.\\n', '\\n', 'Usability-wise, annotations now support forward references, making the following syntax valid:\\n', '\\n', 'class C:\\n', '    @classmethod\\n', '    def from_string(cls, source: str) -> C:\\n', '        ...\\n', '\\n', '    def validate_b(self, obj: B) -> bool:\\n', '        ...\\n', '\\n', 'class B:\\n', '    ...\\n', 'Since this change breaks compatibility, the new behavior needs to be enabled on a per-module basis in Python 3.7 using a __future__ import:\\n', '\\n', 'from __future__ import annotations\\n', 'It will become the default in Python 4.0.\\n', '\\n', 'See also\\n', 'PEP 563 – Postponed evaluation of annotations\\n', 'PEP written and implemented by Łukasz Langa.\\n', 'PEP 538: Legacy C Locale Coercion\\n', 'An ongoing challenge within the Python 3 series has been determining a sensible default strategy for handling the “7-bit ASCII” text encoding assumption currently implied by the use of the default C or POSIX locale on non-Windows platforms.\\n', '\\n', 'PEP 538 updates the default interpreter command line interface to automatically coerce that locale to an available UTF-8 based locale as described in the documentation of the new PYTHONCOERCECLOCALE environment variable. Automatically setting LC_CTYPE this way means that both the core interpreter and locale-aware C extensions (such as readline) will assume the use of UTF-8 as the default text encoding, rather than ASCII.\\n', '\\n', 'The platform support definition in PEP 11 has also been updated to limit full text handling support to suitably configured non-ASCII based locales.\\n', '\\n', 'As part of this change, the default error handler for stdin and stdout is now surrogateescape (rather than strict) when using any of the defined coercion target locales (currently C.UTF-8, C.utf8, and UTF-8). The default error handler for stderr continues to be backslashreplace, regardless of locale.\\n', '\\n', 'Locale coercion is silent by default, but to assist in debugging potentially locale related integration problems, explicit warnings (emitted directly on stderr) can be requested by setting PYTHONCOERCECLOCALE=warn. This setting will also cause the Python runtime to emit a warning if the legacy C locale remains active when the core interpreter is initialized.\\n', '\\n', 'While PEP 538’s locale coercion has the benefit of also affecting extension modules (such as GNU readline), as well as child processes (including those running non-Python applications and older versions of Python), it has the downside of requiring that a suitable target locale be present on the running system. To better handle the case where no suitable target locale is available (as occurs on RHEL/CentOS 7, for example), Python 3.7 also implements PEP 540: Forced UTF-8 Runtime Mode.\\n', '\\n']\n"
     ]
    }
   ],
   "source": [
    "fp = open(\"test2.txt\",\"r\",encoding = \"utf-8\")\n",
    "content = fp.readlines()\n",
    "print(content)\n",
    "fp.close()\n"
   ]
  },
  {
   "cell_type": "code",
   "execution_count": null,
   "metadata": {},
   "outputs": [],
   "source": [
    "read() str \n",
    "read(50)\n",
    "readline\n",
    "readlines => list"
   ]
  },
  {
   "cell_type": "code",
   "execution_count": 27,
   "metadata": {},
   "outputs": [
    {
     "name": "stdout",
     "output_type": "stream",
     "text": [
      "0\n",
      "19\n",
      "0\n",
      "Just few more lines\n"
     ]
    }
   ],
   "source": [
    "fp = open(\"test3.txt\",\"w+\")\n",
    "print(fp.tell())\n",
    "fp.write(\"Just few more lines\")\n",
    "print(fp.tell())\n",
    "fp.seek(0,0)\n",
    "print(fp.tell())\n",
    "content = fp.read()\n",
    "print(content)\n",
    "fp.close()"
   ]
  },
  {
   "cell_type": "code",
   "execution_count": null,
   "metadata": {},
   "outputs": [],
   "source": [
    "seek(offset,position):\n",
    "    0 :start of the file \n",
    "    1: current position \n",
    "    2: end of the file\n",
    "        \n",
    "seek(15,0) : move fp by 15 chars from start of the file \n",
    "seek(0,0)\n",
    "seek(2,0)\n",
    "seek(0,2)\n",
    "seek(0,0)\n",
    "tell"
   ]
  },
  {
   "cell_type": "code",
   "execution_count": 34,
   "metadata": {},
   "outputs": [],
   "source": [
    "fp = open(\"test3.txt\",\"r+\")\n",
    "# content = fp.read()\n",
    "# print(content)\n",
    "fp.seek(0,2)\n",
    "fp.write(\"\\n******************\")\n",
    "\n",
    "fp.close()\n"
   ]
  },
  {
   "cell_type": "code",
   "execution_count": 36,
   "metadata": {},
   "outputs": [
    {
     "name": "stdout",
     "output_type": "stream",
     "text": [
      "129\n",
      "148\n"
     ]
    }
   ],
   "source": [
    "fp = open(\"test1.txt\",\"a\")\n",
    "print(fp.tell())\n",
    "fp.write(\"\\nAdd one more line\")\n",
    "print(fp.tell())\n",
    "fp.close()"
   ]
  },
  {
   "cell_type": "code",
   "execution_count": 40,
   "metadata": {},
   "outputs": [
    {
     "name": "stdout",
     "output_type": "stream",
     "text": [
      "0\n",
      "19\n",
      "\n",
      "Add one more line\n"
     ]
    }
   ],
   "source": [
    "fp = open(\"test4.txt\",\"a+\")\n",
    "print(fp.tell())\n",
    "fp.write(\"\\nAdd one more line\")\n",
    "print(fp.tell())\n",
    "fp.seek(0,0)\n",
    "content = fp.read()\n",
    "print(content)\n",
    "\n",
    "fp.close()"
   ]
  },
  {
   "cell_type": "code",
   "execution_count": null,
   "metadata": {},
   "outputs": [],
   "source": [
    "r : fp: start ,if not exist : error ,operations: read \n",
    "r+ : fp : start ,if not exist : error , opeartions read + write \n",
    "\n",
    "w : fp : start , if not exist : create , operations : write \n",
    "w+ : fp :start ,if not exist : create ,opeartion write + read \n",
    "\n",
    "a : fp end, create , write \n",
    "a+ : fp : end , craete , write + read \n",
    "        \n",
    "        \n",
    "tell => current fp position \n",
    "seek => (offset, position )\n",
    "   0 : start \n",
    "   1 : current \n",
    "   2 : end of the file "
   ]
  }
 ],
 "metadata": {
  "kernelspec": {
   "display_name": "Python 3",
   "language": "python",
   "name": "python3"
  },
  "language_info": {
   "codemirror_mode": {
    "name": "ipython",
    "version": 3
   },
   "file_extension": ".py",
   "mimetype": "text/x-python",
   "name": "python",
   "nbconvert_exporter": "python",
   "pygments_lexer": "ipython3",
   "version": "3.6.5"
  }
 },
 "nbformat": 4,
 "nbformat_minor": 2
}
